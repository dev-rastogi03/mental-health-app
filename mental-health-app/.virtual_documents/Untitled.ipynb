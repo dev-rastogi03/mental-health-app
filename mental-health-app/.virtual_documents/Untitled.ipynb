
import pandas as pd
import numpy as np
import seaborn as sns
import matplotlib.pyplot as plt

from sklearn.model_selection import train_test_split
from sklearn.preprocessing import LabelEncoder
from sklearn.ensemble import RandomForestClassifier
from sklearn.metrics import classification_report, accuracy_score
import joblib


df = pd.read_csv('survey.csv')  
df.head()


df = df.drop(columns=[
    'comments', 'state', 'Timestamp',
    'Country', 'no_employees'
])


df = df[df['treatment'].notna()]


df = df.fillna('Unknown')
le = LabelEncoder()

for col in df.columns:
    if df[col].dtype == 'object':
        df[col] = le.fit_transform(df[col])


X = df.drop('treatment', axis=1)
y = df['treatment']


X_train, X_test, y_train, y_test = train_test_split(
    X, y, test_size=0.2, random_state=42
)


model = RandomForestClassifier(n_estimators=100, random_state=42)
model.fit(X_train, y_train)


y_pred = model.predict(X_test)
print("Accuracy:", accuracy_score(y_test, y_pred))
print(classification_report(y_test, y_pred))


joblib.dump(model, 'app/model.pkl')




