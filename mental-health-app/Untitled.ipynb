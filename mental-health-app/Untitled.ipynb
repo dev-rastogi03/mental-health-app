{
 "cells": [
  {
   "cell_type": "code",
   "execution_count": 6,
   "id": "302ea442-5dbe-4a43-bbfc-d5cb81553adf",
   "metadata": {},
   "outputs": [
    {
     "name": "stdout",
     "output_type": "stream",
     "text": [
      "Accuracy: 0.7698412698412699\n",
      "\n",
      "Classification Report:\n",
      "               precision    recall  f1-score   support\n",
      "\n",
      "           0       0.81      0.72      0.76       129\n",
      "           1       0.74      0.82      0.78       123\n",
      "\n",
      "    accuracy                           0.77       252\n",
      "   macro avg       0.77      0.77      0.77       252\n",
      "weighted avg       0.77      0.77      0.77       252\n",
      "\n"
     ]
    },
    {
     "data": {
      "text/plain": [
       "['app/model.pkl']"
      ]
     },
     "execution_count": 6,
     "metadata": {},
     "output_type": "execute_result"
    }
   ],
   "source": [
    "# Mental Health Prediction Using 5 Features\n",
    "\n",
    "# ---------------------\n",
    "# 1. Load the dataset\n",
    "# ---------------------\n",
    "import pandas as pd\n",
    "\n",
    "df = pd.read_csv('survey.csv')\n",
    "\n",
    "# ---------------------\n",
    "# 2. Select important features + target\n",
    "# ---------------------\n",
    "selected_features = ['Age', 'Gender', 'self_employed', 'family_history', 'work_interfere']\n",
    "df = df[selected_features + ['treatment']]\n",
    "\n",
    "# ---------------------\n",
    "# 3. Preprocessing\n",
    "# ---------------------\n",
    "\n",
    "# Fill missing values\n",
    "df['self_employed'] = df['self_employed'].fillna('No')\n",
    "df['work_interfere'] = df['work_interfere'].fillna('Never')\n",
    "\n",
    "# Label Encoding\n",
    "from sklearn.preprocessing import LabelEncoder\n",
    "\n",
    "le = LabelEncoder()\n",
    "for col in df.columns:\n",
    "    if df[col].dtype == 'object':\n",
    "        df[col] = le.fit_transform(df[col])\n",
    "\n",
    "# ---------------------\n",
    "# 4. Train/Test Split\n",
    "# ---------------------\n",
    "from sklearn.model_selection import train_test_split\n",
    "\n",
    "X = df[selected_features]\n",
    "y = df['treatment']\n",
    "\n",
    "X_train, X_test, y_train, y_test = train_test_split(X, y, test_size=0.2, random_state=42)\n",
    "\n",
    "# ---------------------\n",
    "# 5. Train Model\n",
    "# ---------------------\n",
    "from sklearn.ensemble import RandomForestClassifier\n",
    "from sklearn.metrics import accuracy_score, classification_report\n",
    "\n",
    "model = RandomForestClassifier(n_estimators=100, random_state=42)\n",
    "model.fit(X_train, y_train)\n",
    "\n",
    "# ---------------------\n",
    "# 6. Evaluate Model\n",
    "# ---------------------\n",
    "y_pred = model.predict(X_test)\n",
    "\n",
    "print(\"Accuracy:\", accuracy_score(y_test, y_pred))\n",
    "print(\"\\nClassification Report:\\n\", classification_report(y_test, y_pred))\n",
    "\n",
    "# ---------------------\n",
    "# 7. Save Model\n",
    "# ---------------------\n",
    "import joblib\n",
    "joblib.dump(model, 'app/model.pkl')  # Save into the app/ folder\n"
   ]
  },
  {
   "cell_type": "code",
   "execution_count": 7,
   "id": "fbc73c34-a41d-41a6-8991-156ed8bcd125",
   "metadata": {},
   "outputs": [
    {
     "name": "stdout",
     "output_type": "stream",
     "text": [
      "['Age', 'Gender', 'self_employed', 'family_history', 'work_interfere']\n"
     ]
    }
   ],
   "source": [
    "print(X.columns.tolist())\n",
    "\n"
   ]
  },
  {
   "cell_type": "code",
   "execution_count": 8,
   "id": "fb21926b-d8ba-4563-9240-c94d0596c51e",
   "metadata": {},
   "outputs": [
    {
     "data": {
      "text/plain": [
       "treatment\n",
       "1    0.505957\n",
       "0    0.494043\n",
       "Name: proportion, dtype: float64"
      ]
     },
     "execution_count": 8,
     "metadata": {},
     "output_type": "execute_result"
    }
   ],
   "source": [
    "y.value_counts(normalize=True)\n"
   ]
  },
  {
   "cell_type": "code",
   "execution_count": 9,
   "id": "088e6bae-36bf-4c85-bb7c-788579465b29",
   "metadata": {},
   "outputs": [
    {
     "name": "stdout",
     "output_type": "stream",
     "text": [
      "Test 1: [1]\n",
      "Test 2: [0]\n"
     ]
    },
    {
     "name": "stderr",
     "output_type": "stream",
     "text": [
      "C:\\Users\\devra\\anaconda3\\Lib\\site-packages\\sklearn\\base.py:493: UserWarning: X does not have valid feature names, but RandomForestClassifier was fitted with feature names\n",
      "  warnings.warn(\n",
      "C:\\Users\\devra\\anaconda3\\Lib\\site-packages\\sklearn\\base.py:493: UserWarning: X does not have valid feature names, but RandomForestClassifier was fitted with feature names\n",
      "  warnings.warn(\n"
     ]
    }
   ],
   "source": [
    "# Try predicting on a few custom samples\n",
    "test1 = model.predict([[22, 1, 1, 1, 3]])  # Young, male, self-employed, family history, often interferes\n",
    "test2 = model.predict([[40, 0, 0, 0, 0]])  # Older, female, no family history, no interference\n",
    "\n",
    "print(\"Test 1:\", test1)\n",
    "print(\"Test 2:\", test2)\n"
   ]
  },
  {
   "cell_type": "code",
   "execution_count": null,
   "id": "e7b2fd57-73f7-453c-aefe-3a0514d99a4d",
   "metadata": {},
   "outputs": [],
   "source": []
  }
 ],
 "metadata": {
  "kernelspec": {
   "display_name": "Python [conda env:base] *",
   "language": "python",
   "name": "conda-base-py"
  },
  "language_info": {
   "codemirror_mode": {
    "name": "ipython",
    "version": 3
   },
   "file_extension": ".py",
   "mimetype": "text/x-python",
   "name": "python",
   "nbconvert_exporter": "python",
   "pygments_lexer": "ipython3",
   "version": "3.12.7"
  }
 },
 "nbformat": 4,
 "nbformat_minor": 5
}
